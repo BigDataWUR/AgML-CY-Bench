{
  "nbformat": 4,
  "nbformat_minor": 0,
  "metadata": {
    "colab": {
      "provenance": []
    },
    "kernelspec": {
      "name": "python3",
      "display_name": "Python 3"
    },
    "language_info": {
      "name": "python"
    }
  },
  "cells": [
    {
      "cell_type": "code",
      "source": [
        "!pip install git+https://github.com/ritviksahajpal/octvi"
      ],
      "metadata": {
        "id": "rlgAoIqAgg8I"
      },
      "execution_count": null,
      "outputs": []
    },
    {
      "cell_type": "code",
      "source": [
        "import octvi\n",
        "# Request a key via https://urs.earthdata.nasa.gov/home\n",
        "octvi.app_key = \"your-key-here\"\n",
        "# Get NDVI image\n",
        "octvi.globalVi(product=\"MOD09CMG\", date=\"2024-01-01\", out_path=\"/tmp/MOD09CMG_ndvi_20240101.tif\")\n",
        "# The pixel values represent the NDVI * 10,000\n",
        "# Apply the following transformation to get the agml pixelvalues: i = 0.02 * i + 50\n"
      ],
      "metadata": {
        "id": "PyOlN50SRhTG"
      },
      "execution_count": null,
      "outputs": []
    }
  ]
}