{
  "nbformat": 4,
  "nbformat_minor": 0,
  "metadata": {
    "colab": {
      "provenance": [],
      "authorship_tag": "ABX9TyMSkoEiDgqqC5hzvU6WJ90d",
      "include_colab_link": true
    },
    "kernelspec": {
      "name": "python3",
      "display_name": "Python 3"
    },
    "language_info": {
      "name": "python"
    }
  },
  "cells": [
    {
      "cell_type": "markdown",
      "metadata": {
        "id": "view-in-github",
        "colab_type": "text"
      },
      "source": [
        "<a href=\"https://colab.research.google.com/github/BigDataWUR/AgML-CY-Bench/blob/main/NDVI.ipynb\" target=\"_parent\"><img src=\"https://colab.research.google.com/assets/colab-badge.svg\" alt=\"Open In Colab\"/></a>"
      ]
    },
    {
      "cell_type": "code",
      "execution_count": null,
      "metadata": {
        "collapsed": true,
        "id": "gr0JC1F-RKOX"
      },
      "outputs": [],
      "source": [
        "# Install octvi package and apply some fixes\n",
        "import sys\n",
        "\n",
        "!git clone https://github.com/fdfoneill/octvi\n",
        "!sed -i 's/collection = \"6\"/collection = \"61\"/' /content/octvi/octvi/url.py\n",
        "!sed -i '1s|^|from osgeo.gdal_array import *\\n|' /content/octvi/octvi/extract.py\n",
        "!sed -i '1i import osgeo' /content/octvi/octvi/__init__.py && sed -i 's|gdal.Open(out_path,1)|osgeo.gdal.Open(out_path,1)|' /content/octvi/octvi/__init__.py\n",
        "!cd /content/octvi && pip install -e .\n",
        "\n",
        "sys.path += ['/content/octvi']\n",
        "# Monkey-patch the import to redirect 'import gdal' to 'from osgeo import gdal'\n",
        "sys.modules['gdal'] = __import__('osgeo.gdal')\n",
        "sys.modules['gdalnumeric'] = __import__('osgeo.gdalnumeric')"
      ]
    },
    {
      "cell_type": "code",
      "source": [
        "import octvi\n",
        "# Request a key via https://urs.earthdata.nasa.gov/home\n",
        "octvi.app_key = \"your-key-here\"\n",
        "# Get NDVI image\n",
        "octvi.globalVi(product=\"MOD09CMG\", date=\"2024-01-01\", out_path=\"/tmp/MOD09CMG_ndvi_20240101.tif\")\n",
        "# The pixel values of the resulting image still need to be transformed with i = 0.02 * i + 50\n"
      ],
      "metadata": {
        "id": "PyOlN50SRhTG"
      },
      "execution_count": null,
      "outputs": []
    }
  ]
}