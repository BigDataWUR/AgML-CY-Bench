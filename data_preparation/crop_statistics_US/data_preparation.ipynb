{
 "cells": [
  {
   "cell_type": "markdown",
   "metadata": {},
   "source": [
    "# Crop statistics from National Agricultural Statistics Service (NASS)"
   ]
  },
  {
   "cell_type": "markdown",
   "metadata": {},
   "source": [
    "## Data access\n",
    "\n",
    "The data is available from [Quickstats](https://quickstats.nass.usda.gov/) of the US Department of Agriculture, National Agricultural Statistics Service (NASS). You need to create an account and request an API key to access the data. After you have an API key, you can use the `nass_stats.R` script to download data."
   ]
  },
  {
   "cell_type": "markdown",
   "metadata": {},
   "source": [
    "## Data exploration"
   ]
  },
  {
   "cell_type": "markdown",
   "metadata": {},
   "source": [
    "### Columns and data types"
   ]
  },
  {
   "cell_type": "code",
   "execution_count": 1,
   "metadata": {},
   "outputs": [
    {
     "name": "stdout",
     "output_type": "stream",
     "text": [
      "\n",
      "\n",
      "   Year    State   County statefp countyfp         Crop   Area  Yield Production     adm_id\n",
      "0  2010  ALABAMA  COLBERT      01      033  corn_grain   20800  142.8    2971000  US-01-033\n",
      "1  2009  ALABAMA  COLBERT      01      033  corn_grain   16400  126.0    2064000  US-01-033\n",
      "2  2007  ALABAMA  COLBERT      01      033  corn_grain   18300   85.0    1550000  US-01-033\n",
      "3  2006  ALABAMA  COLBERT      01      033  corn_grain   11400   90.0    1030000  US-01-033\n",
      "4  2005  ALABAMA  COLBERT      01      033  corn_grain   10000  147.0    1472000  US-01-033\n"
     ]
    }
   ],
   "source": [
    "import pandas as pd\n",
    "\n",
    "data_path = \"C:/Users/paude006/Documents/git-repos/AgML-crop-yield-forecasting/data/data_US\"\n",
    "\n",
    "# Data were downloaded into 2 CSV files because NASS limits number of entries in the query result.\n",
    "# NOTE: The downloaded data includes years 1995-2023.\n",
    "# We started from 1995 for two reasons:\n",
    "# 1. Remote sensing data starts from 2000.\n",
    "# 2. Data from 1995 to 1999 is useful in case we use yield trend (trend window 5).\n",
    "# It is possible to download yield statistics from earlier years if necessary.\n",
    "# Change the years in nass_stats.R. Downloading too many years will cause hit the NASS limit.\n",
    "# Then you can download in multiple runs of the script with different year ranges.\n",
    "filename1 = \"nass_stats1.csv\"\n",
    "filename2 = \"nass_stats2.csv\"\n",
    "crop_stats_df1 = pd.read_csv(data_path + \"/\" + filename1,\n",
    "                             delimiter=\",\",\n",
    "                             # set all to str, some columns have mixed types (e.g. str and nan)\n",
    "                             dtype=\"str\",\n",
    "                             header=0)\n",
    "# print(\"\\n\")\n",
    "# print(crop_stats_df1.head(5).to_string())\n",
    "# print(crop_stats_df1[\"Year\"].min(), crop_stats_df1[\"Year\"].max())\n",
    "\n",
    "crop_stats_df2 = pd.read_csv(data_path + \"/\" + filename2,\n",
    "                             delimiter=\",\",\n",
    "                             # set all to str, some columns have mixed types (e.g. str and nan)\n",
    "                             dtype=\"str\",\n",
    "                             header=0)\n",
    "# print(\"\\n\")\n",
    "# print(crop_stats_df2.head(5).to_string())\n",
    "# print(crop_stats_df2[\"Year\"].min(), crop_stats_df2[\"Year\"].max())\n",
    "\n",
    "crop_stats_df = pd.concat([crop_stats_df1, crop_stats_df2], axis=0)\n",
    "\n",
    "# set YEAR and VALUE to numeric\n",
    "crop_stats_df = crop_stats_df.astype({\"Year\" : \"int64\", \"Yield\" : \"float64\"})\n",
    "print(\"\\n\")\n",
    "crop_stats_df[\"adm_id\"] = \"US-\" + crop_stats_df[\"statefp\"] + \"-\" + crop_stats_df[\"countyfp\"] \n",
    "print(crop_stats_df.head(5).to_string())"
   ]
  },
  {
   "cell_type": "markdown",
   "metadata": {},
   "source": [
    "### Select crops"
   ]
  },
  {
   "cell_type": "code",
   "execution_count": 2,
   "metadata": {},
   "outputs": [
    {
     "name": "stdout",
     "output_type": "stream",
     "text": [
      "\n",
      "\n",
      "Crops ['corn_grain ' 'wheat_winter ']\n",
      "\n",
      "\n",
      "Crop: corn_grain \n",
      "---------------------\n",
      "   Year    State   County statefp countyfp         Crop   Area  Yield Production     adm_id\n",
      "0  2010  ALABAMA  COLBERT      01      033  corn_grain   20800  142.8    2971000  US-01-033\n",
      "1  2009  ALABAMA  COLBERT      01      033  corn_grain   16400  126.0    2064000  US-01-033\n",
      "2  2007  ALABAMA  COLBERT      01      033  corn_grain   18300   85.0    1550000  US-01-033\n",
      "3  2006  ALABAMA  COLBERT      01      033  corn_grain   11400   90.0    1030000  US-01-033\n",
      "4  2005  ALABAMA  COLBERT      01      033  corn_grain   10000  147.0    1472000  US-01-033\n",
      "\n",
      "\n",
      "Crop: wheat_winter \n",
      "---------------------\n",
      "       Year    State   County statefp countyfp           Crop  Area  Yield Production     adm_id\n",
      "41549  2003  ALABAMA  COLBERT      01      033  wheat_winter   3300   41.0     135000  US-01-033\n",
      "41550  2000  ALABAMA  COLBERT      01      033  wheat_winter    500   54.0      27000  US-01-033\n",
      "41551  1999  ALABAMA  COLBERT      01      033  wheat_winter    500   46.0      23000  US-01-033\n",
      "41552  1998  ALABAMA  COLBERT      01      033  wheat_winter    800   39.0      31000  US-01-033\n",
      "41553  1996  ALABAMA  COLBERT      01      033  wheat_winter    700   47.0      33000  US-01-033\n"
     ]
    }
   ],
   "source": [
    "crops = crop_stats_df[\"Crop\"].unique()\n",
    "print(\"\\n\")\n",
    "print(\"Crops\", crops)\n",
    "\n",
    "selected_crops = [\"corn_grain \", \"wheat_winter \"]\n",
    "crop_stats_df = crop_stats_df[crop_stats_df[\"Crop\"].isin(selected_crops)]\n",
    "\n",
    "for cr in selected_crops:\n",
    "  print(\"\\n\")\n",
    "  print(\"Crop:\", cr)\n",
    "  print(\"---------------------\")\n",
    "  print(crop_stats_df[crop_stats_df[\"Crop\"] == cr].head(5).to_string())"
   ]
  },
  {
   "cell_type": "markdown",
   "metadata": {},
   "source": [
    "### Summary by crop and country"
   ]
  },
  {
   "cell_type": "code",
   "execution_count": 3,
   "metadata": {},
   "outputs": [],
   "source": [
    "def getCropCountrySummary(crop, yield_df, adm_id_col, year_col):\n",
    "  countries_summary = {}\n",
    "  countries = yield_df[adm_id_col].str[:2].unique()\n",
    "  row_idx = 0\n",
    "  column_names = [\"crop_name\", \"country_code\", \"min_year\", \"max_year\", \"num_years\",\n",
    "                  \"num_regions\", \"data_size\"]\n",
    "  for cn in countries:\n",
    "    yield_cn_df = yield_df[yield_df[adm_id_col].str[:2] == cn]\n",
    "    if (len(yield_cn_df.index) <= 1):\n",
    "      continue\n",
    "\n",
    "    min_year = yield_cn_df[year_col].min()\n",
    "    max_year = yield_cn_df[year_col].max()\n",
    "    num_years = len(yield_cn_df[year_col].unique())\n",
    "    num_regions = yield_cn_df[yield_cn_df[year_col] == max_year][adm_id_col].count()\n",
    "    data_size = yield_cn_df[year_col].count()\n",
    "    countries_summary[\"row\" + str(row_idx)] = [crop, cn, min_year, max_year, num_years,\n",
    "                                              num_regions, data_size]\n",
    "    row_idx += 1\n",
    "\n",
    "  return countries_summary, column_names"
   ]
  },
  {
   "cell_type": "markdown",
   "metadata": {},
   "source": [
    "#### Summary for winter wheat"
   ]
  },
  {
   "cell_type": "code",
   "execution_count": 4,
   "metadata": {},
   "outputs": [
    {
     "name": "stdout",
     "output_type": "stream",
     "text": [
      "          crop_name country_code  min_year  max_year  num_years  num_regions  data_size\n",
      "row0  wheat_winter            US      1990      2023         34          826      49602\n"
     ]
    }
   ],
   "source": [
    "crop = \"wheat_winter \"\n",
    "crop_yield_df = crop_stats_df[crop_stats_df[\"Crop\"] == crop]\n",
    "countries_summary, column_names = getCropCountrySummary(crop, crop_yield_df, \"adm_id\", \"Year\")\n",
    "countries_summary_df = pd.DataFrame.from_dict(countries_summary, columns=column_names,\n",
    "                                              orient=\"index\")\n",
    "print(countries_summary_df.head(30).to_string())"
   ]
  },
  {
   "cell_type": "markdown",
   "metadata": {},
   "source": [
    "#### Summary for Grain maize"
   ]
  },
  {
   "cell_type": "code",
   "execution_count": 5,
   "metadata": {},
   "outputs": [
    {
     "name": "stdout",
     "output_type": "stream",
     "text": [
      "        crop_name country_code  min_year  max_year  num_years  num_regions  data_size\n",
      "row0  corn_grain            US      1990      2023         34         1461      61703\n"
     ]
    }
   ],
   "source": [
    "crop = \"corn_grain \"\n",
    "crop_yield_df = crop_stats_df[crop_stats_df[\"Crop\"] == crop]\n",
    "countries_summary, column_names = getCropCountrySummary(crop, crop_yield_df, \"adm_id\", \"Year\")\n",
    "countries_summary_df = pd.DataFrame.from_dict(countries_summary, columns=column_names,\n",
    "                                              orient=\"index\")\n",
    "print(countries_summary_df.head(30).to_string())"
   ]
  },
  {
   "cell_type": "markdown",
   "metadata": {},
   "source": [
    "## Data preparation"
   ]
  },
  {
   "cell_type": "markdown",
   "metadata": {},
   "source": [
    "### Data cleaning\n",
    "\n",
    "Filter based on\n",
    "* Yield not null"
   ]
  },
  {
   "cell_type": "code",
   "execution_count": 6,
   "metadata": {},
   "outputs": [
    {
     "name": "stdout",
     "output_type": "stream",
     "text": [
      "\n",
      "\n",
      "Crop: corn_grain \n",
      "   harvest_year    crop_name harvest_area  yield production     adm_id\n",
      "0          2010  corn_grain         20800  142.8    2971000  US-01-033\n",
      "1          2009  corn_grain         16400  126.0    2064000  US-01-033\n",
      "2          2007  corn_grain         18300   85.0    1550000  US-01-033\n",
      "3          2006  corn_grain         11400   90.0    1030000  US-01-033\n",
      "4          2005  corn_grain         10000  147.0    1472000  US-01-033\n",
      "5          2004  corn_grain          9200  138.0    1271000  US-01-033\n",
      "6          2003  corn_grain          7800  161.0    1253000  US-01-033\n",
      "7          2002  corn_grain          6700  118.0     790000  US-01-033\n",
      "8          2001  corn_grain          6700  145.0     972000  US-01-033\n",
      "9          2000  corn_grain          7700   99.0     760000  US-01-033\n",
      "\n",
      "\n",
      "Crop: wheat_winter \n",
      "       harvest_year      crop_name harvest_area  yield production     adm_id\n",
      "41549          2003  wheat_winter          3300   41.0     135000  US-01-033\n",
      "41550          2000  wheat_winter           500   54.0      27000  US-01-033\n",
      "41551          1999  wheat_winter           500   46.0      23000  US-01-033\n",
      "41552          1998  wheat_winter           800   39.0      31000  US-01-033\n",
      "41553          1996  wheat_winter           700   47.0      33000  US-01-033\n",
      "41554          1994  wheat_winter          2300   49.6     114000  US-01-033\n",
      "41555          1993  wheat_winter          1900   29.5      56000  US-01-033\n",
      "41556          1992  wheat_winter          2400   46.3     111000  US-01-033\n",
      "41557          1991  wheat_winter          3000   26.0      78000  US-01-033\n",
      "41558          1990  wheat_winter          4800   41.9     201000  US-01-033\n"
     ]
    }
   ],
   "source": [
    "variables = [\"Yield\", \"Area\", \"Production\"]\n",
    "\n",
    "rename_cols = {\n",
    "  \"Yield\" : \"yield\",\n",
    "  \"Area\" : \"harvest_area\",\n",
    "  \"Production\" : \"production\",\n",
    "  \"Crop\" : \"crop_name\",\n",
    "  \"Year\" : \"harvest_year\",\n",
    "}\n",
    "\n",
    "sel_cols = [\"crop_name\", \"adm_id\", \"harvest_year\", \"production\", \"harvest_area\", \"yield\"]\n",
    "final_stats = None\n",
    "\n",
    "for cr in selected_crops:\n",
    "  print(\"\\n\")\n",
    "  print(\"Crop:\", cr)\n",
    "  crop_stats = crop_stats_df[crop_stats_df[\"Crop\"] == cr].copy()\n",
    "  crop_stats = crop_stats.rename(columns=rename_cols)\n",
    "  crop_stats = crop_stats.drop(columns=[c for c in crop_stats.columns if c not in sel_cols])\n",
    "  crop_stats = crop_stats.dropna(axis=0)\n",
    "\n",
    "  if (final_stats is None):\n",
    "    final_stats = crop_stats\n",
    "  else:\n",
    "    final_stats = pd.concat([final_stats, crop_stats], axis=0)\n",
    "\n",
    "  print(crop_stats.head(10).to_string())"
   ]
  },
  {
   "cell_type": "markdown",
   "metadata": {},
   "source": [
    "### Add 2 letter country code"
   ]
  },
  {
   "cell_type": "code",
   "execution_count": 7,
   "metadata": {},
   "outputs": [],
   "source": [
    "final_stats[\"country_code\"] = final_stats[\"adm_id\"].str[:2]\n",
    "# country_code is added as the last column, reorder columns\n",
    "col_order = [\"crop_name\", \"country_code\", \"adm_id\", \"harvest_year\", \"harvest_area\", \"yield\", \"production\"]\n",
    "final_stats = final_stats[col_order]"
   ]
  },
  {
   "cell_type": "markdown",
   "metadata": {},
   "source": [
    "### Save the data"
   ]
  },
  {
   "cell_type": "code",
   "execution_count": 8,
   "metadata": {},
   "outputs": [
    {
     "name": "stdout",
     "output_type": "stream",
     "text": [
      "     crop_name country_code     adm_id  harvest_year harvest_area  yield production\n",
      "0  corn_grain            US  US-01-033          2010        20800  142.8    2971000\n",
      "1  corn_grain            US  US-01-033          2009        16400  126.0    2064000\n",
      "2  corn_grain            US  US-01-033          2007        18300   85.0    1550000\n",
      "3  corn_grain            US  US-01-033          2006        11400   90.0    1030000\n",
      "4  corn_grain            US  US-01-033          2005        10000  147.0    1472000\n"
     ]
    }
   ],
   "source": [
    "print(final_stats.head(5).to_string())\n",
    "final_stats.to_csv(data_path + \"/\" + \"YIELD_COUNTY_US.csv\", index=False)"
   ]
  },
  {
   "cell_type": "code",
   "execution_count": null,
   "metadata": {},
   "outputs": [],
   "source": []
  }
 ],
 "metadata": {
  "kernelspec": {
   "display_name": "Python 3",
   "language": "python",
   "name": "python3"
  },
  "language_info": {
   "codemirror_mode": {
    "name": "ipython",
    "version": 3
   },
   "file_extension": ".py",
   "mimetype": "text/x-python",
   "name": "python",
   "nbconvert_exporter": "python",
   "pygments_lexer": "ipython3",
   "version": "3.11.9"
  }
 },
 "nbformat": 4,
 "nbformat_minor": 2
}
