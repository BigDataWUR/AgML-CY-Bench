{
 "cells": [
  {
   "cell_type": "markdown",
   "id": "18dc770d-a915-4a72-b84a-17d655c9d755",
   "metadata": {},
   "source": [
    "# Notebook 2: Clipping FPAR Data to Specified AOIs\n",
    "Following the download of FPAR data, the next critical step in data preparation is clipping or cropping this data to specific areas of interest, often aligned with administrative boundaries such as countries or states.\n",
    "\n",
    "This Jupyter notebook focuses on the clipping process, enabling you to reduce the extensive datasets to your precise study areas, thereby ***reducing computational load***. This Jupyter notebook is designed to facilitate the clipping of (FPAR) data to your specific areas of interest (AOIs) as administrative regions.\n",
    "\n",
    "Within this notebook, you will:\n",
    "\n",
    "- Read and handle administrative boundaries using shapefiles with geopandas, then execute the clipping process on FPAR raster datasets.\n",
    "\n",
    "***Note:*** You can use this notebook to clip any raster data with shapefile "
   ]
  },
  {
   "cell_type": "code",
   "execution_count": null,
   "id": "3e1498d0-9f49-4143-9509-9368f865e5ce",
   "metadata": {},
   "outputs": [],
   "source": [
    "# install libraries\n",
    "!pip install geopandas rioxarray tqdm"
   ]
  },
  {
   "cell_type": "code",
   "execution_count": null,
   "id": "19cb33ac-0edc-4701-9f35-145424016fa8",
   "metadata": {},
   "outputs": [],
   "source": [
    "import geopandas as gpd\n",
    "import rioxarray\n",
    "from tqdm import tqdm\n",
    "import os\n",
    "import gc # Manage Memory\n",
    "import re"
   ]
  },
  {
   "cell_type": "code",
   "execution_count": null,
   "id": "75b36584-ea46-4959-8aba-8d12ba4846af",
   "metadata": {},
   "outputs": [],
   "source": [
    "# Read the administrative boundary shapefile\n",
    "shapefile_path = ''\n",
    "admin_shapefile = gpd.read_file(shapefile_path)"
   ]
  },
  {
   "cell_type": "code",
   "execution_count": 21,
   "id": "c1471f89-6ff6-4603-8de8-d46c508dde21",
   "metadata": {},
   "outputs": [],
   "source": [
    "def extract_date_from_filename(filename):\n",
    "    \n",
    "    # Define a regex pattern for a date in the format YYYYMMDD\n",
    "    pattern = r'\\d{8}'\n",
    "    \n",
    "    match = re.search(pattern, filename)\n",
    "    date_str = match.group()\n",
    "    \n",
    "    return date_str"
   ]
  },
  {
   "cell_type": "code",
   "execution_count": null,
   "id": "1f719966-78ff-4ced-af43-b87be829befc",
   "metadata": {},
   "outputs": [],
   "source": [
    "def clip_raster_with_shapefile(raster_path, shapefile, output_dir):\n",
    "    raster = rioxarray.open_rasterio(raster_path)\n",
    "\n",
    "    # Make sure your raster is using a geographic coordinate system\n",
    "    raster = raster.rio.write_crs(\"EPSG:4326\", inplace=True)\n",
    "\n",
    "    # Extract date from the raster filename\n",
    "    raster_filename = os.path.basename(raster_path)\n",
    "    date_str = extract_date_from_filename(raster_filename)\n",
    "\n",
    "    if date_str is not None:\n",
    "        # Clip the raster with the shapefile\n",
    "        clipped = raster.rio.clip(shapefile.geometry)\n",
    "\n",
    "        # Define the output file path with the extracted date\n",
    "        output_path = os.path.join(output_dir, f\"fpar_eu_{date_str}.tif\")\n",
    "\n",
    "        # Save the clipped raster to a new GeoTIFF file\n",
    "        clipped.rio.to_raster(output_path)\n",
    "\n",
    "        # Delete the opened variables to save system from crashes due to RAM consumption\n",
    "        del raster\n",
    "        del clipped\n",
    "        gc.collect()\n",
    "\n",
    "        print(f\"Raster clipped successfully and saved to {output_path}\")"
   ]
  },
  {
   "cell_type": "code",
   "execution_count": null,
   "id": "17781486-677d-4798-93c5-d9a4b488c91f",
   "metadata": {},
   "outputs": [],
   "source": [
    "# Define the path to the folder containing the raw FPAR raster data\n",
    "folder_path = \"\"\n",
    "\n",
    "# Create a list of file paths for all .tif files in the folder\n",
    "file_paths = [os.path.join(folder_path, f) for f in os.listdir(folder_path) if f.endswith('.tif')]\n",
    "\n",
    "# Define the output directory where clipped raster files will be saved\n",
    "output_dir = \"\"\n",
    "\n",
    "# Define the path to the shapefile used for clipping\n",
    "shapefile_path = \"\"\n",
    "shapefile = gpd.read_file(shapefile_path)\n",
    "\n",
    "# NOTE: You can slice the data path based on your processing power.\n",
    "# Adjust the slice size or processing batch size accordingly.\n",
    "for file_path in tqdm(file_paths, desc=\"Processing files\", unit=\"file\"):\n",
    "    clip_raster_with_shapefile(file_path, shapefile, output_dir)"
   ]
  }
 ],
 "metadata": {
  "kernelspec": {
   "display_name": "Python 3 (ipykernel)",
   "language": "python",
   "name": "python3"
  },
  "language_info": {
   "codemirror_mode": {
    "name": "ipython",
    "version": 3
   },
   "file_extension": ".py",
   "mimetype": "text/x-python",
   "name": "python",
   "nbconvert_exporter": "python",
   "pygments_lexer": "ipython3",
   "version": "3.9.17"
  }
 },
 "nbformat": 4,
 "nbformat_minor": 5
}
