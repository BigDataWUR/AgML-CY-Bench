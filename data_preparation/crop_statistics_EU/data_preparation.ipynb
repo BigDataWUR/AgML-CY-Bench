{
 "cells": [
  {
   "cell_type": "markdown",
   "metadata": {},
   "source": [
    "# Harmonized subnational crop statistics of the EU"
   ]
  },
  {
   "cell_type": "markdown",
   "metadata": {},
   "source": [
    "## Data access\n",
    "\n",
    "The data is available from [Agri4Cast Data Portal](https://agri4cast.jrc.ec.europa.eu/DataPortal/RequestDataResource.aspx?idResource=36&o=&r=n) of the European Commission's Joint Research Centre. You need to create an account to access the data."
   ]
  },
  {
   "cell_type": "markdown",
   "metadata": {},
   "source": [
    "## Data exploration"
   ]
  },
  {
   "cell_type": "markdown",
   "metadata": {},
   "source": [
    "### Columns and data types"
   ]
  },
  {
   "cell_type": "code",
   "execution_count": 2,
   "metadata": {},
   "outputs": [
    {
     "name": "stdout",
     "output_type": "stream",
     "text": [
      "\n",
      "\n",
      "  REGION    CROP_NAME  YEAR    VARIABLE     VALUE   UoM SOURCE CALCULATED_R CALCULATED_C CALCULATED_V ZERO_AS_NULL COHERENCE_APY COHERENCE_CROP\n",
      "0   AT11  Total wheat  1975        Area   32797.0    ha    NSI          NaN          Yes          NaN          NaN           Yes            NaN\n",
      "1   AT11  Total wheat  1975  Production  108564.0     t    NSI          NaN          Yes          NaN          NaN           Yes            NaN\n",
      "2   AT11  Total wheat  1975       Yield      3.31  t/ha    NSI          NaN          Yes          NaN          NaN           Yes            NaN\n",
      "3   AT11  Total wheat  1976        Area   37650.0    ha    NSI          NaN          Yes          NaN          NaN           Yes            NaN\n",
      "4   AT11  Total wheat  1976  Production  151341.0     t    NSI          NaN          Yes          NaN          NaN           Yes            NaN\n",
      "\n",
      "\n",
      "CALCULATED_R [nan 'Yes']\n",
      "CALCULATED_C ['Yes' nan]\n",
      "CALCULATED_V [nan 'Yes']\n",
      "ZERO_AS_NULL [nan 'Yes']\n",
      "COHERENCE_APY ['Yes' nan 'No']\n",
      "COHERENCE_CROP [nan 'Yes' 'No']\n"
     ]
    }
   ],
   "source": [
    "import pandas as pd\n",
    "\n",
    "data_path = \"<path to data>\"\n",
    "# filename = \"crop_statistics_EU_2021.csv\"\n",
    "# crop_stats_df = pd.read_csv(data_path + \"/\" + filename,\n",
    "#                             delimiter=\";\",\n",
    "#                             header=0)\n",
    "# print(crop_stats_df.head(5).to_string())\n",
    "# print(\"\\n\")\n",
    "\n",
    "filename = \"crop_statistics_EU_2023.csv\"\n",
    "crop_stats_df = pd.read_csv(data_path + \"/\" + filename,\n",
    "                            delimiter=\";\",\n",
    "                            # set all to str, some columns have mixed types (e.g. str and nan)\n",
    "                            dtype=\"str\",\n",
    "                            header=0)\n",
    "print(\"\\n\")\n",
    "print(crop_stats_df.head(5).to_string())\n",
    "# set YEAR and VALUE to numeric\n",
    "crop_stats_df = crop_stats_df.astype({\"YEAR\" : \"int64\", \"VALUE\" : \"float64\"})\n",
    "print(\"\\n\")\n",
    "# print(crop_stats_df.dtypes)\n",
    "for c in crop_stats_df.columns[7:]:\n",
    "  print(c, crop_stats_df[c].unique())"
   ]
  },
  {
   "cell_type": "markdown",
   "metadata": {},
   "source": [
    "### Select crops"
   ]
  },
  {
   "cell_type": "code",
   "execution_count": 3,
   "metadata": {},
   "outputs": [
    {
     "name": "stdout",
     "output_type": "stream",
     "text": [
      "\n",
      "\n",
      "Crops ['Total wheat' 'Soft wheat' 'Durum wheat' 'Total barley' 'Winter barley'\n",
      " 'Spring barley' 'Grain maize' 'Sunflower' 'Sugar beet']\n",
      "\n",
      "\n",
      "Crop: Soft wheat\n",
      "---------------------\n",
      "    REGION   CROP_NAME  YEAR VARIABLE  VALUE   UoM SOURCE CALCULATED_R CALCULATED_C CALCULATED_V ZERO_AS_NULL COHERENCE_APY COHERENCE_CROP\n",
      "67    AT11  Soft wheat  1995    Yield  4.798  t/ha    NSI          NaN          NaN          Yes          NaN           Yes            Yes\n",
      "76    AT11  Soft wheat  1996    Yield  4.770  t/ha    NSI          NaN          NaN          Yes          NaN           Yes            Yes\n",
      "85    AT11  Soft wheat  1997    Yield  4.339  t/ha    NSI          NaN          NaN          Yes          NaN           Yes            Yes\n",
      "94    AT11  Soft wheat  1998    Yield  4.563  t/ha    NSI          NaN          NaN          Yes          NaN           Yes            Yes\n",
      "103   AT11  Soft wheat  1999    Yield  4.938  t/ha    NSI          NaN          NaN          Yes          NaN           Yes            Yes\n",
      "\n",
      "\n",
      "Crop: Grain maize\n",
      "---------------------\n",
      "       REGION    CROP_NAME  YEAR VARIABLE  VALUE   UoM SOURCE CALCULATED_R CALCULATED_C CALCULATED_V ZERO_AS_NULL COHERENCE_APY COHERENCE_CROP\n",
      "238681   AT11  Grain maize  1975    Yield  5.470  t/ha    NSI          NaN          NaN          Yes          NaN           Yes            NaN\n",
      "238684   AT11  Grain maize  1976    Yield  4.556  t/ha    NSI          NaN          NaN          Yes          NaN           Yes            NaN\n",
      "238687   AT11  Grain maize  1977    Yield  6.689  t/ha    NSI          NaN          NaN          Yes          NaN           Yes            NaN\n",
      "238690   AT11  Grain maize  1978    Yield  6.150  t/ha    NSI          NaN          NaN          Yes          NaN           Yes            NaN\n",
      "238693   AT11  Grain maize  1979    Yield  6.710  t/ha    NSI          NaN          NaN          Yes          NaN           Yes            NaN\n"
     ]
    }
   ],
   "source": [
    "crops = crop_stats_df[\"CROP_NAME\"].unique()\n",
    "print(\"\\n\")\n",
    "print(\"Crops\", crops)\n",
    "\n",
    "selected_crops = [\"Soft wheat\", \"Grain maize\"]\n",
    "crop_stats_df = crop_stats_df[crop_stats_df[\"CROP_NAME\"].isin(selected_crops)]\n",
    "\n",
    "for cr in selected_crops:\n",
    "  print(\"\\n\")\n",
    "  print(\"Crop:\", cr)\n",
    "  print(\"---------------------\")\n",
    "  # # crop area\n",
    "  # print(crop_stats_df[(crop_stats_df[\"VARIABLE\"] == \"Area\") &\n",
    "  #                     (crop_stats_df[\"CROP_NAME\"] == cr)].head(5).to_string())\n",
    "  # print(\"\\n\")\n",
    "\n",
    "  # crop yield\n",
    "  print(crop_stats_df[(crop_stats_df[\"VARIABLE\"] == \"Yield\") &\n",
    "                      (crop_stats_df[\"CROP_NAME\"] == cr)].head(5).to_string())"
   ]
  },
  {
   "cell_type": "markdown",
   "metadata": {},
   "source": [
    "### Summary by crop and country"
   ]
  },
  {
   "cell_type": "code",
   "execution_count": 13,
   "metadata": {},
   "outputs": [],
   "source": [
    "def getCropCountrySummary(crop, yield_df, adm_id_col, year_col):\n",
    "  countries_summary = {}\n",
    "  countries = yield_df[adm_id_col].str[:2].unique()\n",
    "  row_idx = 0\n",
    "  column_names = [\"crop_name\", \"country_code\", \"min_year\", \"max_year\", \"num_years\",\n",
    "                  \"num_regions\", \"data_size\"]\n",
    "  for cn in countries:\n",
    "    yield_cn_df = yield_df[yield_df[adm_id_col].str[:2] == cn]\n",
    "    if (len(yield_cn_df.index) <= 1):\n",
    "      continue\n",
    "\n",
    "    min_year = yield_cn_df[year_col].min()\n",
    "    max_year = yield_cn_df[year_col].max()\n",
    "    num_years = len(yield_cn_df[year_col].unique())\n",
    "    num_regions = yield_cn_df[yield_cn_df[year_col] == max_year][adm_id_col].count()\n",
    "    data_size = yield_cn_df[year_col].count()\n",
    "    countries_summary[\"row\" + str(row_idx)] = [crop, cn, min_year, max_year, num_years,\n",
    "                                              num_regions, data_size]\n",
    "    row_idx += 1\n",
    "\n",
    "  return countries_summary, column_names"
   ]
  },
  {
   "cell_type": "markdown",
   "metadata": {},
   "source": [
    "#### Summary for Soft wheat"
   ]
  },
  {
   "cell_type": "code",
   "execution_count": 14,
   "metadata": {},
   "outputs": [
    {
     "name": "stdout",
     "output_type": "stream",
     "text": [
      "        crop_name country_code  min_year  max_year  num_years  num_regions  data_size\n",
      "row0   Soft wheat           AT      1995      2020         26            9        234\n",
      "row1   Soft wheat           BE      1975      2020         43           10        438\n",
      "row2   Soft wheat           BG      1995      2020         16            6         65\n",
      "row3   Soft wheat           CY      2000      2020         21            1         21\n",
      "row4   Soft wheat           CZ      1998      2020         23           14        322\n",
      "row5   Soft wheat           DE      1999      2020         22          253       6973\n",
      "row6   Soft wheat           DK      2006      2020         15           11        165\n",
      "row7   Soft wheat           EE      2004      2020         17            5         85\n",
      "row8   Soft wheat           EL      1998      2019         22           52       1047\n",
      "row9   Soft wheat           ES      1998      2020         23           46       1108\n",
      "row10  Soft wheat           FI      1998      2020         23           19        334\n",
      "row11  Soft wheat           FR      1989      2020         32           94       3028\n",
      "row12  Soft wheat           HR      2008      2020         13            2         26\n",
      "row13  Soft wheat           HU      2002      2020         19           20        380\n",
      "row14  Soft wheat           IE      1990      2020         21            3         63\n",
      "row15  Soft wheat           IT      1995      2020         26           97       2328\n",
      "row16  Soft wheat           LT      2000      2020         21           10        209\n",
      "row17  Soft wheat           LU      1975      2020         46            1         46\n",
      "row18  Soft wheat           LV      1997      2018         22            5        110\n",
      "row19  Soft wheat           MT      2000      2020         21            1         21\n",
      "row20  Soft wheat           NL      1994      2020         27           12        324\n",
      "row21  Soft wheat           PL      2003      2020         18           16        301\n",
      "row22  Soft wheat           PT      1986      2020         35            7        245\n",
      "row23  Soft wheat           RO      1998      2020         23           40        954\n",
      "row24  Soft wheat           SE      1990      2020         31           16        437\n",
      "row25  Soft wheat           SI      2007      2020         14            2         28\n",
      "row26  Soft wheat           SK      2017      2018          2            8         16\n"
     ]
    }
   ],
   "source": [
    "crop = \"Soft wheat\"\n",
    "crop_yield_df = crop_stats_df[(crop_stats_df[\"VARIABLE\"] == \"Yield\") &\n",
    "                              (crop_stats_df[\"CROP_NAME\"] == crop)]\n",
    "countries_summary, column_names = getCropCountrySummary(crop, crop_yield_df, \"REGION\", \"YEAR\")\n",
    "countries_summary_df = pd.DataFrame.from_dict(countries_summary, columns=column_names,\n",
    "                                              orient=\"index\")\n",
    "print(countries_summary_df.head(30).to_string())"
   ]
  },
  {
   "cell_type": "markdown",
   "metadata": {},
   "source": [
    "#### Summary for Grain maize"
   ]
  },
  {
   "cell_type": "code",
   "execution_count": 15,
   "metadata": {},
   "outputs": [
    {
     "name": "stdout",
     "output_type": "stream",
     "text": [
      "         crop_name country_code  min_year  max_year  num_years  num_regions  data_size\n",
      "row0   Grain maize           AT      1975      2020         46            9        414\n",
      "row1   Grain maize           BE      2011      2020         10           10        106\n",
      "row2   Grain maize           BG      1991      2020         30            6        180\n",
      "row3   Grain maize           CY      2000      2020         21            1         21\n",
      "row4   Grain maize           CZ      2005      2020         16           14        219\n",
      "row5   Grain maize           DE      2010      2020         11           12        131\n",
      "row6   Grain maize           DK      2011      2020         10           11        110\n",
      "row7   Grain maize           EE      2000      2020         21            5        105\n",
      "row8   Grain maize           EL      2009      2019         11           52        563\n",
      "row9   Grain maize           ES      1998      2020         23           46       1157\n",
      "row10  Grain maize           FI      2000      2020         21           19        399\n",
      "row11  Grain maize           FR      1989      2020         32           94       3026\n",
      "row12  Grain maize           HR      2005      2020         16            2         32\n",
      "row13  Grain maize           HU      1996      2020         25           20        492\n",
      "row14  Grain maize           IE      2000      2020         21            3         63\n",
      "row15  Grain maize           IT      1995      2020         26           90       2564\n",
      "row16  Grain maize           LT      2000      2020         21           10        210\n",
      "row17  Grain maize           LU      2000      2020         21            1         21\n",
      "row18  Grain maize           LV      2000      2020         21            6        126\n",
      "row19  Grain maize           MT      2000      2020         21            1         21\n",
      "row20  Grain maize           NL      2008      2020         13           12        156\n",
      "row21  Grain maize           PL      2003      2020         18           16        301\n",
      "row22  Grain maize           PT      1986      2020         35            7        245\n",
      "row23  Grain maize           RO      1998      2020         23           40        954\n",
      "row24  Grain maize           SE      2007      2020         10            1         10\n",
      "row25  Grain maize           SI      2007      2020         14            2         28\n",
      "row26  Grain maize           SK      2007      2018         12            8         94\n"
     ]
    }
   ],
   "source": [
    "crop = \"Grain maize\"\n",
    "crop_yield_df = crop_stats_df[(crop_stats_df[\"VARIABLE\"] == \"Yield\") &\n",
    "                              (crop_stats_df[\"CROP_NAME\"] == crop)]\n",
    "countries_summary, column_names = getCropCountrySummary(crop, crop_yield_df, \"REGION\", \"YEAR\")\n",
    "countries_summary_df = pd.DataFrame.from_dict(countries_summary, columns=column_names,\n",
    "                                              orient=\"index\")\n",
    "print(countries_summary_df.head(30).to_string())"
   ]
  },
  {
   "cell_type": "markdown",
   "metadata": {},
   "source": [
    "## Data preparation"
   ]
  },
  {
   "cell_type": "markdown",
   "metadata": {},
   "source": [
    "### Data cleaning\n",
    "\n",
    "Filter based on\n",
    "* Yield not null\n",
    "* Coherence tests (e.g. COHERENCE_APY (yield = production/area), COHERENCE_CROP (values for subcategories of crops add to the total))\n",
    "* Data size check (e.g. >= 100)\n",
    "* Number of years (e.g. >= 15)"
   ]
  },
  {
   "cell_type": "code",
   "execution_count": 22,
   "metadata": {},
   "outputs": [
    {
     "name": "stdout",
     "output_type": "stream",
     "text": [
      "\n",
      "\n",
      "Crop: Soft wheat\n",
      "  adm_id   crop_name  harvest_year  yield  harvest_area  production\n",
      "0   AT11  Soft wheat          1995  4.798         4.798       4.798\n",
      "1   AT11  Soft wheat          1996  4.770         4.770       4.770\n",
      "2   AT11  Soft wheat          1997  4.339         4.339       4.339\n",
      "3   AT11  Soft wheat          1998  4.563         4.563       4.563\n",
      "4   AT11  Soft wheat          1999  4.938         4.938       4.938\n",
      "5   AT11  Soft wheat          2000  3.542         3.542       3.542\n",
      "6   AT11  Soft wheat          2001  4.340         4.340       4.340\n",
      "7   AT11  Soft wheat          2002  4.160         4.160       4.160\n",
      "8   AT11  Soft wheat          2003  3.640         3.640       3.640\n",
      "9   AT11  Soft wheat          2004  5.250         5.250       5.250\n",
      "        crop_name country_code  min_year  max_year  num_years  num_regions  data_size\n",
      "row0   Soft wheat           AT      1995      2020         26            9        171\n",
      "row1   Soft wheat           BE      2000      2020         21           10        216\n",
      "row2   Soft wheat           BG      1998      2020         12            4         59\n",
      "row3   Soft wheat           CZ      2000      2020         21           14        294\n",
      "row4   Soft wheat           DK      2006      2020         15           11        165\n",
      "row5   Soft wheat           EE      2004      2020         17            5         85\n",
      "row6   Soft wheat           EL      1998      2019         22           46        992\n",
      "row7   Soft wheat           ES      1998      2020         23           45        721\n",
      "row8   Soft wheat           FI      2000      2020         21           17        201\n",
      "row9   Soft wheat           FR      1989      2020         32           93       2571\n",
      "row10  Soft wheat           HR      2008      2020         13            2         25\n",
      "row11  Soft wheat           HU      2002      2020         19           18        336\n",
      "row12  Soft wheat           IE      1990      2020         15            1         41\n",
      "row13  Soft wheat           IT      1995      2020         26           80       1833\n",
      "row14  Soft wheat           LT      2000      2020         21           10        209\n",
      "row15  Soft wheat           LV      2000      2018         19            5         95\n",
      "row16  Soft wheat           NL      2000      2020         21           12        243\n",
      "row17  Soft wheat           PL      2003      2020         18           16        301\n",
      "row18  Soft wheat           PT      1986      2020         35            6        216\n",
      "row19  Soft wheat           RO      1998      2020         23           31        455\n",
      "row20  Soft wheat           SE      2000      2020         21           16        327\n",
      "row21  Soft wheat           SI      2007      2020         14            2         28\n",
      "row22  Soft wheat           SK      2017      2018          2            5         10\n",
      "\n",
      "\n",
      "Crop: Grain maize\n",
      "  adm_id    crop_name  harvest_year  yield  harvest_area  production\n",
      "0   AT11  Grain maize          1975  5.470         5.470       5.470\n",
      "1   AT11  Grain maize          1976  4.556         4.556       4.556\n",
      "2   AT11  Grain maize          1977  6.689         6.689       6.689\n",
      "3   AT11  Grain maize          1978  6.150         6.150       6.150\n",
      "4   AT11  Grain maize          1979  6.710         6.710       6.710\n",
      "5   AT11  Grain maize          1980  6.162         6.162       6.162\n",
      "6   AT11  Grain maize          1981  6.853         6.853       6.853\n",
      "7   AT11  Grain maize          1982  7.827         7.827       7.827\n",
      "8   AT11  Grain maize          1983  6.699         6.699       6.699\n",
      "9   AT11  Grain maize          1984  7.208         7.208       7.208\n",
      "         crop_name country_code  min_year  max_year  num_years  num_regions  data_size\n",
      "row0   Grain maize           AT      1975      2020         46            9        414\n",
      "row1   Grain maize           BE      2011      2020         10           10         86\n",
      "row2   Grain maize           BG      1991      2020         30            6        180\n",
      "row3   Grain maize           CZ      2005      2020         16           14        216\n",
      "row4   Grain maize           DE      2010      2020         11           12        131\n",
      "row5   Grain maize           DK      2011      2020         10            1         22\n",
      "row6   Grain maize           EE      2000      2020         21            5        105\n",
      "row7   Grain maize           EL      2009      2019         11           52        559\n",
      "row8   Grain maize           ES      1998      2020         23           46       1146\n",
      "row9   Grain maize           FI      2000      2020         21           19        399\n",
      "row10  Grain maize           FR      1989      2020         32           94       3026\n",
      "row11  Grain maize           HR      2005      2020         16            2         32\n",
      "row12  Grain maize           HU      1996      2020         25           20        459\n",
      "row13  Grain maize           IE      2000      2020         21            3         63\n",
      "row14  Grain maize           IT      1995      2020         26           90       2325\n",
      "row15  Grain maize           LT      2000      2020         21           10        181\n",
      "row16  Grain maize           LV      2000      2020         21            6        126\n",
      "row17  Grain maize           NL      2008      2020         13            8        129\n",
      "row18  Grain maize           PL      2003      2020         18           16        301\n",
      "row19  Grain maize           PT      1986      2020         35            6        243\n",
      "row20  Grain maize           RO      1998      2020         23           39        946\n",
      "row21  Grain maize           SE      2007      2020         10            1         10\n",
      "row22  Grain maize           SI      2007      2020         14            2         28\n",
      "row23  Grain maize           SK      2007      2018         12            8         94\n"
     ]
    }
   ],
   "source": [
    "# Data size requirements\n",
    "min_num_years = 15\n",
    "min_data_size = 100\n",
    "\n",
    "def cleanStats(df, crop_name):\n",
    "  # filter out country-level stats (country code is 2 letters)\n",
    "  df = df[df[\"REGION\"].str.len() > 2]\n",
    "\n",
    "  # filter out data that don't pass coherence tests\n",
    "  # COHERENCE_CROP test only applies to wheat and barley.\n",
    "  if ((\"wheat\" in crop_name.lower()) or\n",
    "      (\"barley\" in crop_name.lower())):\n",
    "    df = df[(df[\"COHERENCE_APY\"] == \"Yes\") &\n",
    "            (df[\"COHERENCE_CROP\"] == \"Yes\")]\n",
    "  else:\n",
    "    df = df[df[\"COHERENCE_APY\"] == \"Yes\"]\n",
    "\n",
    "  # filter out nan values\n",
    "  return df.dropna(subset=[\"VALUE\"])\n",
    "\n",
    "\n",
    "variables = [\"Yield\", \"Area\", \"Production\"]\n",
    "variables_rename = {\n",
    "  \"Yield\" : \"yield\",\n",
    "  \"Area\" : \"harvest_area\",\n",
    "  \"Production\" : \"production\"\n",
    "}\n",
    "\n",
    "rename_cols = {\n",
    "  \"CROP_NAME\" : \"crop_name\",\n",
    "  \"REGION\" : \"adm_id\",\n",
    "  \"YEAR\" : \"harvest_year\",\n",
    "}\n",
    "\n",
    "sel_cols = [\"crop_name\", \"adm_id\", \"harvest_year\", \"production\", \"harvest_area\", \"yield\"]\n",
    "final_stats = None\n",
    "for cr in selected_crops:\n",
    "  print(\"\\n\")\n",
    "  print(\"Crop:\", cr)\n",
    "  crop_stats = None\n",
    "  for v in variables:\n",
    "    var_stats = crop_stats_df[(crop_stats_df[\"VARIABLE\"] == \"Yield\") &\n",
    "                           (crop_stats_df[\"CROP_NAME\"] == cr)].copy()\n",
    "    var_stats = cleanStats(var_stats, cr)\n",
    "    rename_cols[\"VALUE\"] = variables_rename[v]\n",
    "    var_stats = var_stats.rename(columns=rename_cols)\n",
    "    var_stats = var_stats.drop(columns=[c for c in var_stats.columns if c not in sel_cols])\n",
    "    if (crop_stats is None):\n",
    "      crop_stats = var_stats\n",
    "    else:\n",
    "      crop_stats = crop_stats.merge(var_stats, on=[\"crop_name\", \"adm_id\", \"harvest_year\"])\n",
    "\n",
    "  if (final_stats is None):\n",
    "    final_stats = crop_stats\n",
    "  else:\n",
    "    final_stats = pd.concat([final_stats, crop_stats], axis=0)\n",
    "\n",
    "  print(crop_stats.head(10).to_string())\n",
    "  # countries = crop_stats[\"adm_id\"].str[:2].unique()\n",
    "  # for cn in countries:\n",
    "  #   cn_stats = crop_stats[crop_stats[\"adm_id\"].str[:2] == cn]\n",
    "  #   num_years = len(cn_stats[\"harvest_year\"].unique())\n",
    "  #   data_size = cn_stats[\"harvest_year\"].count()\n",
    "  #   if ((num_years >= min_num_years) &\n",
    "  #       (data_size >= min_data_size)):\n",
    "  #     crop_stats = crop_stats[crop_stats[\"adm_id\"].str[:2] != cn]\n",
    "\n",
    "  countries_summary, column_names = getCropCountrySummary(cr, crop_stats, \"adm_id\", \"harvest_year\")\n",
    "  countries_summary_df = pd.DataFrame.from_dict(countries_summary, columns=column_names,\n",
    "                                                orient=\"index\")\n",
    "  print(countries_summary_df.head(30).to_string())"
   ]
  },
  {
   "cell_type": "markdown",
   "metadata": {},
   "source": [
    "### Save the data"
   ]
  },
  {
   "cell_type": "code",
   "execution_count": 5,
   "metadata": {},
   "outputs": [
    {
     "name": "stdout",
     "output_type": "stream",
     "text": [
      "  adm_id   crop_name  harvest_year  yield  harvest_area  production                                          source\n",
      "0   AT11  Soft wheat          1995  4.798         4.798       4.798  https://agri4cast.jrc.ec.europa.eu/DataPortal/\n",
      "1   AT11  Soft wheat          1996  4.770         4.770       4.770  https://agri4cast.jrc.ec.europa.eu/DataPortal/\n",
      "2   AT11  Soft wheat          1997  4.339         4.339       4.339  https://agri4cast.jrc.ec.europa.eu/DataPortal/\n",
      "3   AT11  Soft wheat          1998  4.563         4.563       4.563  https://agri4cast.jrc.ec.europa.eu/DataPortal/\n",
      "4   AT11  Soft wheat          1999  4.938         4.938       4.938  https://agri4cast.jrc.ec.europa.eu/DataPortal/\n"
     ]
    }
   ],
   "source": [
    "final_stats[\"source\"] = \"https://agri4cast.jrc.ec.europa.eu/DataPortal/\"\n",
    "\n",
    "print(final_stats.head(5).to_string())\n",
    "# final_stats.to_csv(data_path + \"/\" + \"YIELD_EU.csv\", index=False)"
   ]
  },
  {
   "cell_type": "code",
   "execution_count": null,
   "metadata": {},
   "outputs": [],
   "source": []
  }
 ],
 "metadata": {
  "kernelspec": {
   "display_name": "Python 3",
   "language": "python",
   "name": "python3"
  },
  "language_info": {
   "codemirror_mode": {
    "name": "ipython",
    "version": 3
   },
   "file_extension": ".py",
   "mimetype": "text/x-python",
   "name": "python",
   "nbconvert_exporter": "python",
   "pygments_lexer": "ipython3",
   "version": "3.11.8"
  }
 },
 "nbformat": 4,
 "nbformat_minor": 2
}
