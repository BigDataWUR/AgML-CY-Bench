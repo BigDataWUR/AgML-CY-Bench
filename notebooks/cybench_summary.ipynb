{
 "cells": [
  {
   "cell_type": "markdown",
   "metadata": {},
   "source": [
    "\n",
    "[![Open In Colab](https://colab.research.google.com/assets/colab-badge.svg)](https://colab.research.google.com/github/BigDataWUR/AgML-CY-Bench/blob/main/notebooks/cybench_summary.ipynb)"
   ]
  },
  {
   "cell_type": "markdown",
   "metadata": {},
   "source": [
    "# CY-Bench dataset summary\n",
    "\n",
    "Based on a notebook contributed by Ioannis N. Athanasiadis."
   ]
  },
  {
   "cell_type": "markdown",
   "metadata": {},
   "source": [
    "## Install packages"
   ]
  },
  {
   "cell_type": "code",
   "execution_count": null,
   "metadata": {},
   "outputs": [],
   "source": [
    "%pip install --quiet plottable pycountry"
   ]
  },
  {
   "cell_type": "markdown",
   "metadata": {},
   "source": [
    "## Load dataset summary\n",
    "\n",
    "This dataset summary is produced by running the `cybench/runs/benchmark_summary.py`. The input data for this notebook is included in `cybench/runs/data_size_v1.4-per-year.txt`."
   ]
  },
  {
   "cell_type": "code",
   "execution_count": null,
   "metadata": {},
   "outputs": [],
   "source": [
    "import os\n",
    "import pandas as pd\n",
    "import pycountry\n",
    "\n",
    "maize_data_sizes = {}\n",
    "wheat_data_sizes = {}\n",
    "with open(\"data_size_v1.4-per-year.txt\", \"r\") as f:\n",
    "  for line in f:\n",
    "    ds_name, ds_summary = line.split(\":\")\n",
    "    cn_code = ds_name[-2:]\n",
    "    # Greece seems to have 2 codes. EU uses EL. The more common is GR.\n",
    "    if (cn_code == \"EL\"):\n",
    "      cn_code = \"GR\"\n",
    "\n",
    "    ds_size_row = []\n",
    "    min_year = None\n",
    "    max_year = None\n",
    "    nloc = 0\n",
    "    ndata_points = 0\n",
    "    for yr_summary in ds_summary.split(\",\"):\n",
    "      # remove extra spaces\n",
    "      yr_summary = yr_summary.strip()\n",
    "      yr = yr_summary[:4]\n",
    "      nloc_yr = int(yr_summary[5:-1])\n",
    "      if (min_year is None) and (nloc_yr > 0):\n",
    "        min_year = yr\n",
    "      if (nloc_yr > 0):\n",
    "        max_year = yr\n",
    "\n",
    "      ndata_points += nloc_yr\n",
    "      if (nloc_yr > nloc):\n",
    "        nloc = nloc_yr\n",
    "\n",
    "      ds_size_row.append(nloc_yr)\n",
    "\n",
    "    min_max_year = str(min_year) + \"-\" + str(max_year)\n",
    "    if (line.startswith(\"maize\")):\n",
    "      maize_data_sizes[cn_code] = [min_max_year, nloc, ndata_points, ds_size_row]\n",
    "    else:\n",
    "      wheat_data_sizes[cn_code] = [min_max_year, nloc, ndata_points, ds_size_row]\n",
    "\n",
    "\n",
    "maize_ds = pd.DataFrame.from_dict(maize_data_sizes, columns=[\"duration_maize\", \"regions_maize\",\n",
    "                                                             \"points_maize\", \"densities_maize\"],\n",
    "                                  orient=\"index\")\n",
    "wheat_ds = pd.DataFrame.from_dict(wheat_data_sizes, columns=[\"duration_wheat\", \"regions_wheat\",\n",
    "                                                             \"points_wheat\", \"densities_wheat\"],\n",
    "                                  orient=\"index\")\n",
    "maize_ds.reset_index(inplace=True)\n",
    "maize_ds.rename(columns={\"index\": \"country_code\"}, inplace=True)\n",
    "maize_ds[\"country_name\"] = maize_ds[\"country_code\"].apply(lambda x: pycountry.countries.get(alpha_2=x).name)\n",
    "maize_ds.set_index(\"country_name\", inplace=True)\n",
    "print(maize_ds.head(40).to_string())\n",
    "\n",
    "wheat_ds.reset_index(inplace=True)\n",
    "wheat_ds.rename(columns={\"index\": \"country_code\"}, inplace=True)\n",
    "wheat_ds[\"country_name\"] = wheat_ds[\"country_code\"].apply(lambda x: pycountry.countries.get(alpha_2=x).name)\n",
    "wheat_ds.set_index(\"country_name\", inplace=True)\n",
    "print(wheat_ds.head(40).to_string())"
   ]
  },
  {
   "cell_type": "markdown",
   "metadata": {},
   "source": [
    "## Plot summaries"
   ]
  },
  {
   "cell_type": "code",
   "execution_count": null,
   "metadata": {},
   "outputs": [],
   "source": [
    "import matplotlib.axes\n",
    "import typing\n",
    "\n",
    "def densities_plot(ax: matplotlib.axes.Axes, val: typing.Any, hideAxes = True, startx=2003) -> matplotlib.container.BarContainer:\n",
    "    bar = ax.bar(*[range(startx, startx+len(val))], val, color = \"#35b0ab\")\n",
    "    if(hideAxes):\n",
    "        ax.set_axis_off()\n",
    "    return bar"
   ]
  },
  {
   "cell_type": "code",
   "execution_count": null,
   "metadata": {},
   "outputs": [],
   "source": [
    "# Install some nice fonts!\n",
    "% pip install --quiet pyfonts\n",
    "\n",
    "from pyfonts import load_font\n",
    "import pooch\n",
    "\n",
    "def get_font(font_url):\n",
    "    font_path = pooch.retrieve(url=font_url, known_hash=None)\n",
    "    font = load_font(font_path=font_path)\n",
    "    return font\n",
    "\n",
    "light_font = get_font(\"https://fontiko.com/system/uploads/font-files/94/Roboto-Light.ttf\")\n",
    "bold_font = get_font(\"https://fontiko.com/system/uploads/font-files/94/Roboto-Black.ttf\")"
   ]
  },
  {
   "cell_type": "code",
   "execution_count": null,
   "metadata": {},
   "outputs": [],
   "source": [
    "from matplotlib.colors import LinearSegmentedColormap\n",
    "\n",
    "cmap1 = LinearSegmentedColormap.from_list(\n",
    "    name=\"bugw\", colors=[\"#f2fbd2\", \"#c9ecb4\", \"#93d3ab\", \"#35b0ab\"], N=256\n",
    ")"
   ]
  },
  {
   "cell_type": "markdown",
   "metadata": {},
   "source": [
    "### Maize data summary"
   ]
  },
  {
   "cell_type": "code",
   "execution_count": null,
   "metadata": {},
   "outputs": [],
   "source": [
    "from plottable import ColDef, Table\n",
    "from plottable.cmap import normed_cmap\n",
    "\n",
    "fig, ax = plt.subplots(figsize=(12, 30))\n",
    "\n",
    "label_maize = \"Maize\"\n",
    "label_wheat = \"Wheat\"\n",
    "\n",
    "tab = Table(\n",
    "            maize_ds,\n",
    "            columns=['duration_maize','regions_maize','points_maize','densities_maize'],\n",
    "            column_definitions=[\n",
    "                ColDef(name=\"name\", title =\"Country\",\n",
    "                        textprops={\"ha\": \"left\"},\n",
    "                        width=1.5,\n",
    "                       ),\n",
    "\n",
    "                # ColDef(\"flag\",title=\"\", width=1,\n",
    "                #        textprops={\"ha\": \"center\"},\n",
    "                #        plot_fn=circled_image,),\n",
    "                ColDef(name=\"regions_maize\",\n",
    "                       title=\"SUBNATIONAL\\n ADMIN REGIONS\",\n",
    "                       width=1.5,\n",
    "                       textprops={\"ha\": \"center\",\n",
    "                                  \"bbox\": {\"boxstyle\": \"circle\", \"pad\": 0.35},\n",
    "                                #   \"fontsize\":9,\n",
    "                                           },\n",
    "                       cmap=normed_cmap(maize_ds['regions_maize'], cmap=cmap1, num_stds=5),\n",
    "                       group=label_maize),\n",
    "\n",
    "                ColDef(name=\"points_maize\",\n",
    "                       title=\"LABEL SIZE\",\n",
    "                       width=0.75,\n",
    "                       textprops={\"ha\": \"center\",\n",
    "                                  \"bbox\": {\"boxstyle\": \"circle\", \"pad\": 0.35},},\n",
    "                       cmap=normed_cmap(maize_ds['points_maize'], cmap=cmap1, num_stds=5),\n",
    "                       group=label_maize),\n",
    "\n",
    "                ColDef(name=\"duration_maize\",\n",
    "                       title=\"Min Max Year\",\n",
    "                       width=1.5,\n",
    "                       group=label_maize),\n",
    "\n",
    "                ColDef(\"densities_maize\", title=\"LABEL TIMELINE\\n2003-2024\", width=2,\n",
    "                       group= label_maize,\n",
    "                       plot_fn=densities_plot,\n",
    "                       textprops={\"ha\": \"center\"}),\n",
    "\n",
    "\n",
    "\n",
    "                ],\n",
    "            row_dividers=True,\n",
    "            col_label_divider=True,\n",
    "            footer_divider=True,\n",
    "            textprops={\"fontsize\": 12, \"font\":light_font, \"ha\":\"center\"},\n",
    "            row_divider_kw={\"linewidth\": 1, \"linestyle\": (0, (1, 5))},\n",
    "            col_label_divider_kw={\"linewidth\": 1, \"linestyle\": \"-\"},\n",
    "            column_border_kw={\"linewidth\": 1, \"linestyle\": \"-\"},\n",
    "        )\n",
    "\n",
    "plt.show()"
   ]
  },
  {
   "cell_type": "markdown",
   "metadata": {},
   "source": [
    "### Wheat data summary"
   ]
  },
  {
   "cell_type": "code",
   "execution_count": null,
   "metadata": {},
   "outputs": [],
   "source": [
    "from plottable import ColDef, Table\n",
    "from plottable.cmap import normed_cmap\n",
    "\n",
    "fig, ax = plt.subplots(figsize=(12, 24))\n",
    "\n",
    "label_maize = \"Maize\"\n",
    "label_wheat = \"Wheat\"\n",
    "\n",
    "tab = Table(\n",
    "            wheat_ds,\n",
    "            columns=['duration_wheat', 'regions_wheat', 'points_wheat', 'densities_wheat'],\n",
    "            column_definitions=[\n",
    "                ColDef(name=\"name\", title =\"Country\",\n",
    "                        textprops={\"ha\": \"left\",\n",
    "                                #    \"font\":bold_font,\n",
    "                                   },\n",
    "                        width=1.5,\n",
    "                       ),\n",
    "                # ColDef(\"flag\",title=\"\", width=1,\n",
    "                #        textprops={\"ha\": \"center\"},\n",
    "                #        plot_fn=circled_image,),\n",
    "                ColDef(name=\"regions_wheat\",\n",
    "                       title=\"SUBNATIONAL\\n ADMIN REGIONS\",\n",
    "                       width=1.5,\n",
    "                       textprops={\"ha\": \"center\",\n",
    "                                  \"bbox\": {\"boxstyle\": \"circle\", \"pad\": 0.35},\n",
    "                                #   \"fontsize\":9,\n",
    "                                           },\n",
    "                       cmap=normed_cmap(wheat_ds['regions_wheat'], cmap=cmap1, num_stds=5),\n",
    "                       group=label_wheat),\n",
    "\n",
    "                ColDef(name=\"points_wheat\",\n",
    "                       title=\"LABEL SIZE\",\n",
    "                       width=0.75,\n",
    "                       textprops={\"ha\": \"center\",\n",
    "                                  \"bbox\": {\"boxstyle\": \"circle\", \"pad\": 0.35},},\n",
    "                       cmap=normed_cmap(wheat_ds['points_wheat'], cmap=cmap1),\n",
    "                       group=label_wheat),\n",
    "\n",
    "                ColDef(name=\"duration_wheat\",\n",
    "                       title=\"Min Max Year\",\n",
    "                       width=1.5,\n",
    "                       group=label_wheat),\n",
    "\n",
    "                ColDef(\"densities_wheat\", title=\"LABELS TIMELINE\\n2003-2024\", width=2,\n",
    "                       group=label_wheat,\n",
    "                       plot_fn=densities_plot,\n",
    "                       plot_kw={\"hideAxes\": False},\n",
    "                       textprops={\"ha\": \"center\"}),\n",
    "\n",
    "                ],\n",
    "            row_dividers=True,\n",
    "            col_label_divider=True,\n",
    "            footer_divider=True,\n",
    "            textprops={\"fontsize\": 12, \"font\":light_font, \"ha\":\"center\"},\n",
    "            row_divider_kw={\"linewidth\": 1, \"linestyle\": (0, (1, 5))},\n",
    "            col_label_divider_kw={\"linewidth\": 1, \"linestyle\": \"-\"},\n",
    "            column_border_kw={\"linewidth\": 1, \"linestyle\": \"-\"},\n",
    "        )\n",
    "\n",
    "plt.show()"
   ]
  }
 ],
 "metadata": {
  "language_info": {
   "name": "python"
  }
 },
 "nbformat": 4,
 "nbformat_minor": 2
}
