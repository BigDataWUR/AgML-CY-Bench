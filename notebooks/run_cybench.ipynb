{
  "cells": [
    {
      "cell_type": "markdown",
      "metadata": {
        "id": "L6akp-8ZNp90"
      },
      "source": [
        "## Install packages"
      ]
    },
    {
      "cell_type": "code",
      "execution_count": null,
      "metadata": {
        "colab": {
          "base_uri": "https://localhost:8080/"
        },
        "id": "ByUMopTQNnYW",
        "collapsed": true,
        "outputId": "a2e49b2e-a3ca-4f62-f036-4797b5e5ffc3"
      },
      "outputs": [
        {
          "output_type": "stream",
          "name": "stdout",
          "text": [
            "  Installing build dependencies ... \u001b[?25l\u001b[?25hdone\n",
            "  Getting requirements to build wheel ... \u001b[?25l\u001b[?25hdone\n",
            "  Preparing metadata (pyproject.toml) ... \u001b[?25l\u001b[?25hdone\n",
            "\u001b[2K     \u001b[90m━━━━━━━━━━━━━━━━━━━━━━━━━━━━━━━━━━━━━━━━\u001b[0m \u001b[32m50.1/50.1 kB\u001b[0m \u001b[31m2.3 MB/s\u001b[0m eta \u001b[36m0:00:00\u001b[0m\n",
            "\u001b[2K     \u001b[90m━━━━━━━━━━━━━━━━━━━━━━━━━━━━━━━━━━━━━━━━\u001b[0m \u001b[32m43.6/43.6 kB\u001b[0m \u001b[31m1.3 MB/s\u001b[0m eta \u001b[36m0:00:00\u001b[0m\n",
            "\u001b[2K   \u001b[90m━━━━━━━━━━━━━━━━━━━━━━━━━━━━━━━━━━━━━━━━\u001b[0m \u001b[32m687.3/687.3 kB\u001b[0m \u001b[31m11.1 MB/s\u001b[0m eta \u001b[36m0:00:00\u001b[0m\n",
            "\u001b[2K   \u001b[90m━━━━━━━━━━━━━━━━━━━━━━━━━━━━━━━━━━━━━━━━\u001b[0m \u001b[32m52.6/52.6 kB\u001b[0m \u001b[31m3.3 MB/s\u001b[0m eta \u001b[36m0:00:00\u001b[0m\n",
            "\u001b[2K   \u001b[90m━━━━━━━━━━━━━━━━━━━━━━━━━━━━━━━━━━━━━━━━\u001b[0m \u001b[32m57.7/57.7 kB\u001b[0m \u001b[31m3.6 MB/s\u001b[0m eta \u001b[36m0:00:00\u001b[0m\n",
            "\u001b[2K   \u001b[90m━━━━━━━━━━━━━━━━━━━━━━━━━━━━━━━━━━━━━━━━\u001b[0m \u001b[32m8.3/8.3 MB\u001b[0m \u001b[31m62.5 MB/s\u001b[0m eta \u001b[36m0:00:00\u001b[0m\n",
            "\u001b[2K   \u001b[90m━━━━━━━━━━━━━━━━━━━━━━━━━━━━━━━━━━━━━━━━\u001b[0m \u001b[32m13.0/13.0 MB\u001b[0m \u001b[31m65.8 MB/s\u001b[0m eta \u001b[36m0:00:00\u001b[0m\n",
            "\u001b[2K   \u001b[90m━━━━━━━━━━━━━━━━━━━━━━━━━━━━━━━━━━━━━━━━\u001b[0m \u001b[32m341.8/341.8 kB\u001b[0m \u001b[31m19.7 MB/s\u001b[0m eta \u001b[36m0:00:00\u001b[0m\n",
            "\u001b[2K   \u001b[90m━━━━━━━━━━━━━━━━━━━━━━━━━━━━━━━━━━━━━━━━\u001b[0m \u001b[32m13.4/13.4 MB\u001b[0m \u001b[31m54.4 MB/s\u001b[0m eta \u001b[36m0:00:00\u001b[0m\n",
            "\u001b[2K   \u001b[90m━━━━━━━━━━━━━━━━━━━━━━━━━━━━━━━━━━━━━━━━\u001b[0m \u001b[32m294.9/294.9 kB\u001b[0m \u001b[31m15.5 MB/s\u001b[0m eta \u001b[36m0:00:00\u001b[0m\n",
            "\u001b[2K   \u001b[90m━━━━━━━━━━━━━━━━━━━━━━━━━━━━━━━━━━━━━━━━\u001b[0m \u001b[32m324.3/324.3 kB\u001b[0m \u001b[31m17.9 MB/s\u001b[0m eta \u001b[36m0:00:00\u001b[0m\n",
            "\u001b[2K   \u001b[90m━━━━━━━━━━━━━━━━━━━━━━━━━━━━━━━━━━━━━━━━\u001b[0m \u001b[32m755.5/755.5 MB\u001b[0m \u001b[31m2.6 MB/s\u001b[0m eta \u001b[36m0:00:00\u001b[0m\n",
            "\u001b[2K   \u001b[90m━━━━━━━━━━━━━━━━━━━━━━━━━━━━━━━━━━━━━━━━\u001b[0m \u001b[32m410.6/410.6 MB\u001b[0m \u001b[31m3.5 MB/s\u001b[0m eta \u001b[36m0:00:00\u001b[0m\n",
            "\u001b[2K   \u001b[90m━━━━━━━━━━━━━━━━━━━━━━━━━━━━━━━━━━━━━━━━\u001b[0m \u001b[32m14.1/14.1 MB\u001b[0m \u001b[31m56.8 MB/s\u001b[0m eta \u001b[36m0:00:00\u001b[0m\n",
            "\u001b[2K   \u001b[90m━━━━━━━━━━━━━━━━━━━━━━━━━━━━━━━━━━━━━━━━\u001b[0m \u001b[32m23.7/23.7 MB\u001b[0m \u001b[31m16.7 MB/s\u001b[0m eta \u001b[36m0:00:00\u001b[0m\n",
            "\u001b[2K   \u001b[90m━━━━━━━━━━━━━━━━━━━━━━━━━━━━━━━━━━━━━━━━\u001b[0m \u001b[32m823.6/823.6 kB\u001b[0m \u001b[31m26.9 MB/s\u001b[0m eta \u001b[36m0:00:00\u001b[0m\n",
            "\u001b[2K   \u001b[90m━━━━━━━━━━━━━━━━━━━━━━━━━━━━━━━━━━━━━━━━\u001b[0m \u001b[32m731.7/731.7 MB\u001b[0m \u001b[31m2.5 MB/s\u001b[0m eta \u001b[36m0:00:00\u001b[0m\n",
            "\u001b[2K   \u001b[90m━━━━━━━━━━━━━━━━━━━━━━━━━━━━━━━━━━━━━━━━\u001b[0m \u001b[32m121.6/121.6 MB\u001b[0m \u001b[31m7.1 MB/s\u001b[0m eta \u001b[36m0:00:00\u001b[0m\n",
            "\u001b[2K   \u001b[90m━━━━━━━━━━━━━━━━━━━━━━━━━━━━━━━━━━━━━━━━\u001b[0m \u001b[32m56.5/56.5 MB\u001b[0m \u001b[31m8.9 MB/s\u001b[0m eta \u001b[36m0:00:00\u001b[0m\n",
            "\u001b[2K   \u001b[90m━━━━━━━━━━━━━━━━━━━━━━━━━━━━━━━━━━━━━━━━\u001b[0m \u001b[32m124.2/124.2 MB\u001b[0m \u001b[31m7.0 MB/s\u001b[0m eta \u001b[36m0:00:00\u001b[0m\n",
            "\u001b[2K   \u001b[90m━━━━━━━━━━━━━━━━━━━━━━━━━━━━━━━━━━━━━━━━\u001b[0m \u001b[32m196.0/196.0 MB\u001b[0m \u001b[31m5.6 MB/s\u001b[0m eta \u001b[36m0:00:00\u001b[0m\n",
            "\u001b[2K   \u001b[90m━━━━━━━━━━━━━━━━━━━━━━━━━━━━━━━━━━━━━━━━\u001b[0m \u001b[32m166.0/166.0 MB\u001b[0m \u001b[31m5.8 MB/s\u001b[0m eta \u001b[36m0:00:00\u001b[0m\n",
            "\u001b[2K   \u001b[90m━━━━━━━━━━━━━━━━━━━━━━━━━━━━━━━━━━━━━━━━\u001b[0m \u001b[32m99.1/99.1 kB\u001b[0m \u001b[31m6.4 MB/s\u001b[0m eta \u001b[36m0:00:00\u001b[0m\n",
            "\u001b[2K   \u001b[90m━━━━━━━━━━━━━━━━━━━━━━━━━━━━━━━━━━━━━━━━\u001b[0m \u001b[32m167.9/167.9 MB\u001b[0m \u001b[31m6.5 MB/s\u001b[0m eta \u001b[36m0:00:00\u001b[0m\n",
            "\u001b[2K   \u001b[90m━━━━━━━━━━━━━━━━━━━━━━━━━━━━━━━━━━━━━━━━\u001b[0m \u001b[32m144.2/144.2 kB\u001b[0m \u001b[31m8.2 MB/s\u001b[0m eta \u001b[36m0:00:00\u001b[0m\n",
            "\u001b[2K   \u001b[90m━━━━━━━━━━━━━━━━━━━━━━━━━━━━━━━━━━━━━━━━\u001b[0m \u001b[32m234.7/234.7 kB\u001b[0m \u001b[31m12.4 MB/s\u001b[0m eta \u001b[36m0:00:00\u001b[0m\n",
            "\u001b[2K   \u001b[90m━━━━━━━━━━━━━━━━━━━━━━━━━━━━━━━━━━━━━━━━\u001b[0m \u001b[32m979.1/979.1 kB\u001b[0m \u001b[31m41.1 MB/s\u001b[0m eta \u001b[36m0:00:00\u001b[0m\n",
            "\u001b[2K   \u001b[90m━━━━━━━━━━━━━━━━━━━━━━━━━━━━━━━━━━━━━━━━\u001b[0m \u001b[32m62.7/62.7 kB\u001b[0m \u001b[31m4.4 MB/s\u001b[0m eta \u001b[36m0:00:00\u001b[0m\n",
            "\u001b[2K   \u001b[90m━━━━━━━━━━━━━━━━━━━━━━━━━━━━━━━━━━━━━━━━\u001b[0m \u001b[32m3.3/3.3 MB\u001b[0m \u001b[31m64.0 MB/s\u001b[0m eta \u001b[36m0:00:00\u001b[0m\n",
            "\u001b[2K   \u001b[90m━━━━━━━━━━━━━━━━━━━━━━━━━━━━━━━━━━━━━━━━\u001b[0m \u001b[32m2.5/2.5 MB\u001b[0m \u001b[31m63.2 MB/s\u001b[0m eta \u001b[36m0:00:00\u001b[0m\n",
            "\u001b[2K   \u001b[90m━━━━━━━━━━━━━━━━━━━━━━━━━━━━━━━━━━━━━━━━\u001b[0m \u001b[32m54.5/54.5 kB\u001b[0m \u001b[31m3.8 MB/s\u001b[0m eta \u001b[36m0:00:00\u001b[0m\n",
            "\u001b[2K   \u001b[90m━━━━━━━━━━━━━━━━━━━━━━━━━━━━━━━━━━━━━━━━\u001b[0m \u001b[32m311.4/311.4 kB\u001b[0m \u001b[31m16.7 MB/s\u001b[0m eta \u001b[36m0:00:00\u001b[0m\n",
            "\u001b[2K   \u001b[90m━━━━━━━━━━━━━━━━━━━━━━━━━━━━━━━━━━━━━━━━\u001b[0m \u001b[32m137.9/137.9 kB\u001b[0m \u001b[31m8.7 MB/s\u001b[0m eta \u001b[36m0:00:00\u001b[0m\n",
            "\u001b[2K   \u001b[90m━━━━━━━━━━━━━━━━━━━━━━━━━━━━━━━━━━━━━━━━\u001b[0m \u001b[32m254.1/254.1 kB\u001b[0m \u001b[31m15.4 MB/s\u001b[0m eta \u001b[36m0:00:00\u001b[0m\n",
            "\u001b[2K   \u001b[90m━━━━━━━━━━━━━━━━━━━━━━━━━━━━━━━━━━━━━━━━\u001b[0m \u001b[32m6.9/6.9 MB\u001b[0m \u001b[31m56.3 MB/s\u001b[0m eta \u001b[36m0:00:00\u001b[0m\n",
            "\u001b[2K   \u001b[90m━━━━━━━━━━━━━━━━━━━━━━━━━━━━━━━━━━━━━━━━\u001b[0m \u001b[32m19.7/19.7 MB\u001b[0m \u001b[31m40.5 MB/s\u001b[0m eta \u001b[36m0:00:00\u001b[0m\n",
            "\u001b[?25h  Building wheel for cybench (pyproject.toml) ... \u001b[?25l\u001b[?25hdone\n",
            "\u001b[31mERROR: pip's dependency resolver does not currently take into account all the packages that are installed. This behaviour is the source of the following dependency conflicts.\n",
            "cudf-cu12 24.4.1 requires pandas<2.2.2dev0,>=2.0, but you have pandas 2.2.2 which is incompatible.\n",
            "google-colab 1.0.0 requires pandas==2.1.4, but you have pandas 2.2.2 which is incompatible.\n",
            "torchaudio 2.4.0+cu121 requires torch==2.4.0, but you have torch 2.2.2 which is incompatible.\u001b[0m\u001b[31m\n",
            "\u001b[0m"
          ]
        }
      ],
      "source": [
        "# The following step may take 5 minutes\n",
        "! pip install -qqq cybench@git+https://github.com/BigDataWUR/AgML-CY-Bench.git\n",
        "# You may get a \"ERROR: pip's dependency resolver\", but is safe to ignore that"
      ]
    },
    {
      "cell_type": "code",
      "source": [
        "# For running on an HPC:\n",
        "#   git clone https://github.com/BigDataWUR/AgML-CY-Bench\n",
        "#   module load python/3.12.0\n",
        "#   pip install poetry\n",
        "#   pip uninstall virtualenv\n",
        "#   poetry install"
      ],
      "metadata": {
        "id": "Tfk6aTRkcuT3"
      },
      "execution_count": null,
      "outputs": []
    },
    {
      "cell_type": "markdown",
      "metadata": {
        "id": "OhHCi-ihNwfy"
      },
      "source": [
        "## Download data"
      ]
    },
    {
      "cell_type": "code",
      "execution_count": null,
      "metadata": {
        "collapsed": true,
        "id": "5eohyJsWNysL"
      },
      "outputs": [],
      "source": [
        "import subprocess\n",
        "import os\n",
        "def get_package_directory(package_name):\n",
        "  result = subprocess.run(['pip', 'show', package_name], capture_output=True, text=True)\n",
        "  for line in result.stdout.splitlines():\n",
        "    if line.startswith('Location:'):\n",
        "      return line.split(':', 1)[1].strip()\n",
        "\n",
        "install_dir = get_package_directory('cybench')\n",
        "data_dir = os.path.join(install_dir, \"cybench/data\")\n",
        "!rm -rf {data_dir}\n",
        "!git clone -q https://github.com/BigDataWUR/sample_data.git {data_dir}"
      ]
    },
    {
      "cell_type": "markdown",
      "metadata": {
        "id": "NOLp8ZzVNzIl"
      },
      "source": [
        "## Run benchmark"
      ]
    },
    {
      "cell_type": "code",
      "execution_count": null,
      "metadata": {
        "id": "yRrYLWNFN03d",
        "colab": {
          "base_uri": "https://localhost:8080/"
        },
        "outputId": "0ce5db5a-49f9-4151-9807-fb25a998f488",
        "collapsed": true
      },
      "outputs": [
        {
          "output_type": "stream",
          "name": "stderr",
          "text": [
            "BaselineLSTM: 100%|██████████| 7/7 [00:00<00:00, 13.46it/s]\n",
            "BaselineLSTM: 100%|██████████| 7/7 [00:00<00:00, 11.86it/s]\n",
            "BaselineInceptionTime: 100%|██████████| 7/7 [00:01<00:00,  5.61it/s]\n",
            "BaselineInceptionTime: 100%|██████████| 7/7 [00:01<00:00,  5.24it/s]\n",
            "BaselineTransformer: 100%|██████████| 7/7 [00:00<00:00,  7.36it/s]\n",
            "BaselineTransformer: 100%|██████████| 7/7 [00:00<00:00, 10.52it/s]\n",
            "BaselineLSTM: 100%|██████████| 7/7 [00:00<00:00, 13.80it/s]\n",
            "BaselineLSTM: 100%|██████████| 7/7 [00:00<00:00, 12.91it/s]\n",
            "BaselineInceptionTime: 100%|██████████| 7/7 [00:01<00:00,  6.18it/s]\n",
            "BaselineInceptionTime: 100%|██████████| 7/7 [00:01<00:00,  5.96it/s]\n",
            "BaselineTransformer: 100%|██████████| 7/7 [00:00<00:00,  7.75it/s]\n",
            "BaselineTransformer: 100%|██████████| 7/7 [00:00<00:00,  7.03it/s]\n",
            "BaselineLSTM: 100%|██████████| 7/7 [00:00<00:00, 13.09it/s]\n",
            "BaselineLSTM: 100%|██████████| 7/7 [00:00<00:00, 13.65it/s]\n",
            "BaselineInceptionTime: 100%|██████████| 7/7 [00:01<00:00,  5.28it/s]\n",
            "BaselineInceptionTime: 100%|██████████| 7/7 [00:01<00:00,  6.29it/s]\n",
            "BaselineTransformer: 100%|██████████| 7/7 [00:00<00:00, 10.30it/s]\n",
            "BaselineTransformer: 100%|██████████| 7/7 [00:00<00:00, 10.16it/s]\n",
            "BaselineLSTM: 100%|██████████| 7/7 [00:00<00:00, 13.84it/s]\n",
            "BaselineLSTM: 100%|██████████| 7/7 [00:00<00:00, 13.32it/s]\n",
            "BaselineInceptionTime: 100%|██████████| 7/7 [00:01<00:00,  6.36it/s]\n",
            "BaselineInceptionTime: 100%|██████████| 7/7 [00:01<00:00,  6.27it/s]\n",
            "BaselineTransformer: 100%|██████████| 7/7 [00:00<00:00,  7.75it/s]\n",
            "BaselineTransformer: 100%|██████████| 7/7 [00:00<00:00, 10.18it/s]\n",
            "BaselineLSTM: 100%|██████████| 7/7 [00:00<00:00, 13.61it/s]\n",
            "BaselineLSTM: 100%|██████████| 7/7 [00:00<00:00, 10.23it/s]\n",
            "BaselineInceptionTime: 100%|██████████| 7/7 [00:01<00:00,  6.25it/s]\n",
            "BaselineInceptionTime: 100%|██████████| 7/7 [00:01<00:00,  6.32it/s]\n",
            "BaselineTransformer: 100%|██████████| 7/7 [00:00<00:00, 10.56it/s]\n",
            "BaselineTransformer: 100%|██████████| 7/7 [00:01<00:00,  6.65it/s]\n",
            "BaselineLSTM: 100%|██████████| 7/7 [00:00<00:00, 12.81it/s]\n",
            "BaselineLSTM: 100%|██████████| 7/7 [00:00<00:00, 12.97it/s]\n",
            "BaselineInceptionTime: 100%|██████████| 7/7 [00:01<00:00,  6.12it/s]\n",
            "BaselineInceptionTime: 100%|██████████| 7/7 [00:01<00:00,  4.18it/s]\n",
            "BaselineTransformer: 100%|██████████| 7/7 [00:00<00:00,  9.97it/s]\n",
            "BaselineTransformer: 100%|██████████| 7/7 [00:00<00:00, 10.14it/s]\n",
            "BaselineLSTM: 100%|██████████| 7/7 [00:00<00:00, 14.09it/s]\n",
            "BaselineLSTM: 100%|██████████| 7/7 [00:00<00:00, 13.49it/s]\n",
            "BaselineInceptionTime: 100%|██████████| 7/7 [00:01<00:00,  4.17it/s]\n",
            "BaselineInceptionTime: 100%|██████████| 7/7 [00:01<00:00,  6.29it/s]\n",
            "BaselineTransformer: 100%|██████████| 7/7 [00:01<00:00,  5.66it/s]\n",
            "BaselineTransformer: 100%|██████████| 7/7 [00:00<00:00, 10.34it/s]\n",
            "BaselineLSTM: 100%|██████████| 7/7 [00:00<00:00, 13.54it/s]\n",
            "BaselineLSTM: 100%|██████████| 7/7 [00:00<00:00,  9.16it/s]\n",
            "BaselineInceptionTime: 100%|██████████| 7/7 [00:01<00:00,  6.09it/s]\n",
            "BaselineInceptionTime: 100%|██████████| 7/7 [00:01<00:00,  4.12it/s]\n",
            "BaselineTransformer: 100%|██████████| 7/7 [00:00<00:00, 10.33it/s]\n",
            "BaselineTransformer: 100%|██████████| 7/7 [00:00<00:00, 10.34it/s]\n",
            "BaselineLSTM: 100%|██████████| 7/7 [00:00<00:00, 14.00it/s]\n",
            "BaselineLSTM: 100%|██████████| 7/7 [00:00<00:00, 14.01it/s]\n",
            "BaselineInceptionTime: 100%|██████████| 7/7 [00:01<00:00,  4.10it/s]\n",
            "BaselineInceptionTime: 100%|██████████| 7/7 [00:01<00:00,  6.38it/s]\n",
            "BaselineTransformer: 100%|██████████| 7/7 [00:01<00:00,  6.92it/s]\n",
            "BaselineTransformer: 100%|██████████| 7/7 [00:00<00:00,  7.15it/s]\n",
            "BaselineLSTM: 100%|██████████| 7/7 [00:00<00:00, 10.00it/s]\n",
            "BaselineLSTM: 100%|██████████| 7/7 [00:00<00:00, 13.80it/s]\n",
            "BaselineInceptionTime: 100%|██████████| 7/7 [00:01<00:00,  6.30it/s]\n",
            "BaselineInceptionTime: 100%|██████████| 7/7 [00:01<00:00,  6.14it/s]\n",
            "BaselineTransformer: 100%|██████████| 7/7 [00:00<00:00,  9.97it/s]\n",
            "BaselineTransformer: 100%|██████████| 7/7 [00:00<00:00,  9.87it/s]\n",
            "BaselineLSTM: 100%|██████████| 7/7 [00:00<00:00, 13.72it/s]\n",
            "BaselineLSTM: 100%|██████████| 7/7 [00:00<00:00,  8.98it/s]\n",
            "BaselineInceptionTime: 100%|██████████| 7/7 [00:01<00:00,  6.29it/s]\n",
            "BaselineInceptionTime: 100%|██████████| 7/7 [00:01<00:00,  6.33it/s]\n",
            "BaselineTransformer: 100%|██████████| 7/7 [00:00<00:00,  9.94it/s]\n",
            "BaselineTransformer: 100%|██████████| 7/7 [00:01<00:00,  6.89it/s]\n",
            "BaselineLSTM: 100%|██████████| 7/7 [00:00<00:00,  9.78it/s]\n",
            "BaselineLSTM: 100%|██████████| 7/7 [00:00<00:00, 13.65it/s]\n",
            "BaselineInceptionTime: 100%|██████████| 7/7 [00:01<00:00,  6.26it/s]\n",
            "BaselineInceptionTime: 100%|██████████| 7/7 [00:01<00:00,  4.60it/s]\n",
            "BaselineTransformer: 100%|██████████| 7/7 [00:00<00:00, 10.13it/s]\n",
            "BaselineTransformer: 100%|██████████| 7/7 [00:00<00:00, 10.46it/s]\n",
            "BaselineLSTM: 100%|██████████| 7/7 [00:00<00:00, 13.57it/s]\n",
            "BaselineLSTM: 100%|██████████| 7/7 [00:00<00:00, 13.89it/s]\n",
            "BaselineInceptionTime: 100%|██████████| 7/7 [00:01<00:00,  4.48it/s]\n",
            "BaselineInceptionTime: 100%|██████████| 7/7 [00:01<00:00,  6.27it/s]\n",
            "BaselineTransformer: 100%|██████████| 7/7 [00:00<00:00,  7.79it/s]\n",
            "BaselineTransformer: 100%|██████████| 7/7 [00:00<00:00, 10.17it/s]\n"
          ]
        },
        {
          "output_type": "execute_result",
          "data": {
            "text/plain": [
              "{'df_metrics':                                      normalized_rmse      mape         r2\n",
              " country_code model             year                                      \n",
              " NL           AverageYieldModel 2008        18.623571  0.170815  -0.396534\n",
              "              LinearTrend       2008        18.623571  0.170815  -0.396534\n",
              "              SklearnRidge      2008        17.525472  0.162233  -0.236702\n",
              "              RidgeRes          2008        26.138777  0.259551  -1.751035\n",
              "              SklearnRF         2008        15.739681  0.134767   0.002490\n",
              " ...                                              ...       ...        ...\n",
              "              LSTMRes           2020        28.849736  0.291010  -0.624796\n",
              "              InceptionTime     2020        91.461158  0.880390 -15.330090\n",
              "              InceptionTimeRes  2020        28.874893  0.288989  -0.627631\n",
              "              Transformer       2020        28.225524  0.286422  -0.555246\n",
              "              TransformerRes    2020        36.818210  0.357669  -1.646309\n",
              " \n",
              " [156 rows x 3 columns]}"
            ]
          },
          "metadata": {},
          "execution_count": 3
        }
      ],
      "source": [
        "from cybench.runs.run_benchmark import run_benchmark\n",
        "\n",
        "run_benchmark(\"maize_NL\", dataset_name=\"maize_NL\")"
      ]
    },
    {
      "cell_type": "code",
      "execution_count": null,
      "metadata": {
        "id": "cuCVXpqP7nO7"
      },
      "outputs": [],
      "source": []
    }
  ],
  "metadata": {
    "colab": {
      "provenance": []
    },
    "kernelspec": {
      "display_name": "Python 3",
      "name": "python3"
    },
    "language_info": {
      "name": "python"
    }
  },
  "nbformat": 4,
  "nbformat_minor": 0
}